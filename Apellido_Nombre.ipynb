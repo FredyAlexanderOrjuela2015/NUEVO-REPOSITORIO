{
  "cells": [
    {
      "cell_type": "markdown",
      "metadata": {
        "id": "view-in-github",
        "colab_type": "text"
      },
      "source": [
        "<a href=\"https://colab.research.google.com/github/FredyAlexanderOrjuela2015/NUEVO-REPOSITORIO/blob/main/Apellido_Nombre.ipynb\" target=\"_parent\"><img src=\"https://colab.research.google.com/assets/colab-badge.svg\" alt=\"Open In Colab\"/></a>"
      ]
    },
    {
      "cell_type": "markdown",
      "id": "80c14099",
      "metadata": {
        "id": "80c14099"
      },
      "source": [
        "\n",
        "# Clase 1 (2h): Introducción a Jupyter/Colab y al entorno de análisis de datos en Python\n",
        "\n",
        "**Objetivos de la sesión**\n",
        "- Configurar y usar Google Colab como entorno de trabajo.\n",
        "- Comprender la estructura de un notebook (celdas de código y Markdown) y buenas prácticas.\n",
        "- Importar y verificar librerías clave para análisis de datos: `numpy`, `pandas`, `matplotlib`, `seaborn`, `statsmodels`.\n",
        "- Cargar un `.csv` y realizar una exploración inicial.\n",
        "- Practicar *slicing* (filas/columnas) y conteo de valores faltantes.\n"
      ]
    },
    {
      "cell_type": "markdown",
      "id": "cd66ad35",
      "metadata": {
        "id": "cd66ad35"
      },
      "source": [
        "\n",
        "## Flujo de trabajo recomendado (Colab ⇄ GitHub)\n",
        "1. Abre este notebook en **Google Colab**.\n",
        "2. Guarda una copia en tu repositorio: `Archivo → Guardar una copia en GitHub`.\n",
        "3. Versiona tu trabajo repitiendo el guardado al final de la clase.\n"
      ]
    },
    {
      "cell_type": "markdown",
      "id": "3eec9ff6",
      "metadata": {
        "id": "3eec9ff6"
      },
      "source": [
        "\n",
        "## Notebooks: estructura y ejecución\n",
        "- Celdas **Código** y **Markdown**.\n",
        "- Ejecuta con `Shift + Enter`.\n",
        "- Modos: **Editar** (borde verde) y **Comando** (borde azul).  \n",
        "  Atajos: `A` (arriba), `B` (abajo), `M` (Markdown), `Y` (Código), `D D` (borrar).\n"
      ]
    },
    {
      "cell_type": "code",
      "execution_count": null,
      "id": "b6a874af",
      "metadata": {
        "id": "b6a874af"
      },
      "outputs": [],
      "source": [
        "print('Hola, Notebook 👋')\n",
        "1 + 2"
      ]
    },
    {
      "cell_type": "code",
      "execution_count": null,
      "id": "464565d9",
      "metadata": {
        "id": "464565d9"
      },
      "outputs": [],
      "source": [
        "print(1 + 2)\n",
        "1 + 3"
      ]
    },
    {
      "cell_type": "code",
      "execution_count": null,
      "id": "d05d9264",
      "metadata": {
        "id": "d05d9264"
      },
      "outputs": [],
      "source": [
        "1 + 2\n",
        "1 + 3;  # suprime la última salida"
      ]
    },
    {
      "cell_type": "markdown",
      "id": "81fbfba2",
      "metadata": {
        "id": "81fbfba2"
      },
      "source": [
        "\n",
        "## Buenas prácticas\n",
        "- Indentación 4 espacios · Comentarios que expliquen el “por qué” · Longitud ≤ 100 · Bloques lógicos.\n"
      ]
    },
    {
      "cell_type": "code",
      "execution_count": null,
      "id": "52d18df8",
      "metadata": {
        "id": "52d18df8"
      },
      "outputs": [],
      "source": [
        "\n",
        "resultado = []\n",
        "for x in range(10):\n",
        "    for y in range(5):\n",
        "        if x * y > 10:\n",
        "            resultado.append((x, y))\n",
        "print(resultado)\n"
      ]
    },
    {
      "cell_type": "markdown",
      "id": "a10621ad",
      "metadata": {
        "id": "a10621ad"
      },
      "source": [
        "\n",
        "## Librerías clave\n",
        "`numpy`, `pandas`, `matplotlib`, `seaborn`, `statsmodels`\n"
      ]
    },
    {
      "cell_type": "code",
      "execution_count": null,
      "id": "0aab31d9",
      "metadata": {
        "id": "0aab31d9"
      },
      "outputs": [],
      "source": [
        "\n",
        "# !pip install numpy pandas matplotlib seaborn statsmodels --quiet  # Descomenta si hace falta\n",
        "import sys, platform\n",
        "import numpy as np, pandas as pd\n",
        "import matplotlib.pyplot as plt\n",
        "import seaborn as sns\n",
        "import statsmodels.api as sm\n",
        "%matplotlib inline\n",
        "print(\"Python:\", sys.version.split()[0], \"|\", platform.platform())\n",
        "print(\"NumPy:\", np.__version__, \"| pandas:\", pd.__version__, \"| matplotlib:\", plt.matplotlib.__version__)\n",
        "print(\"seaborn:\", sns.__version__, \"| statsmodels:\", sm.__version__)\n"
      ]
    },
    {
      "cell_type": "markdown",
      "id": "a1cb1896",
      "metadata": {
        "id": "a1cb1896"
      },
      "source": [
        "## Cargar datos (elige una opción)"
      ]
    },
    {
      "cell_type": "code",
      "execution_count": null,
      "id": "c5258d8d",
      "metadata": {
        "id": "c5258d8d"
      },
      "outputs": [],
      "source": [
        "\n",
        "# Opción A) Subir CSV desde tu equipo\n",
        "from io import BytesIO\n",
        "import pandas as pd\n",
        "try:\n",
        "    from google.colab import files\n",
        "    uploaded = files.upload()\n",
        "    if len(uploaded):\n",
        "        fname, fbytes = next(iter(uploaded.items()))\n",
        "        da = pd.read_csv(BytesIO(fbytes))\n",
        "        print(\"Archivo cargado:\", fname, \"| shape:\", da.shape)\n",
        "        display(da.head())\n",
        "except Exception as e:\n",
        "    print(\"Si no estás en Colab o prefieres otra opción, usa la Opción B/C/D. Detalle:\", e)\n"
      ]
    },
    {
      "cell_type": "code",
      "execution_count": null,
      "id": "e4ff648c",
      "metadata": {
        "id": "e4ff648c"
      },
      "outputs": [],
      "source": [
        "\n",
        "# Opción B) URL directa a .csv\n",
        "# url = \"https://ejemplo.org/datos.csv\"\n",
        "# da = pd.read_csv(url); da.head()\n"
      ]
    },
    {
      "cell_type": "code",
      "execution_count": null,
      "id": "8d32dc98",
      "metadata": {
        "id": "8d32dc98"
      },
      "outputs": [],
      "source": [
        "\n",
        "# Opción C) Leer desde Google Drive\n",
        "# from google.colab import drive\n",
        "# drive.mount('/content/drive')\n",
        "# da = pd.read_csv('/content/drive/MiCarpeta/datos.csv')\n",
        "# da.head()\n"
      ]
    },
    {
      "cell_type": "markdown",
      "id": "86d2a2ac",
      "metadata": {
        "id": "86d2a2ac"
      },
      "source": [
        "### Opción D) Dataset de ejemplo"
      ]
    },
    {
      "cell_type": "code",
      "execution_count": null,
      "id": "f4abb03a",
      "metadata": {
        "id": "f4abb03a"
      },
      "outputs": [],
      "source": [
        "\n",
        "import numpy as np, pandas as pd\n",
        "np.random.seed(42)\n",
        "n = 250\n",
        "da = pd.DataFrame({\n",
        "    \"SEQN\": np.arange(1, n+1),\n",
        "    \"RIAGENDR\": np.random.choice([1, 2], size=n),\n",
        "    \"RIDAGEYR\": np.random.randint(18, 80, size=n),\n",
        "    \"BMXWT\": np.round(np.random.normal(70, 12, size=n), 1),\n",
        "    \"BMXHT\": np.round(np.random.normal(168, 10, size=n), 1),\n",
        "})\n",
        "da[\"BMXBMI\"] = np.round(da[\"BMXWT\"] / (da[\"BMXHT\"]/100)**2, 1)\n",
        "da.loc[np.random.choice(da.index, size=10, replace=False), \"BMXWT\"] = np.nan\n",
        "da.head()\n"
      ]
    },
    {
      "cell_type": "markdown",
      "id": "3b3e5b5e",
      "metadata": {
        "id": "3b3e5b5e"
      },
      "source": [
        "## Exploración inicial"
      ]
    },
    {
      "cell_type": "code",
      "execution_count": null,
      "id": "519645d1",
      "metadata": {
        "id": "519645d1"
      },
      "outputs": [],
      "source": [
        "\n",
        "print(\"shape:\", da.shape)\n",
        "print(\"columnas:\", list(da.columns))\n",
        "display(da.dtypes)\n",
        "display(da.head())\n",
        "display(da.describe(include='all'))\n"
      ]
    },
    {
      "cell_type": "markdown",
      "id": "de8bca0f",
      "metadata": {
        "id": "de8bca0f"
      },
      "source": [
        "## *Slicing* (filas y columnas)"
      ]
    },
    {
      "cell_type": "code",
      "execution_count": null,
      "id": "8e43930e",
      "metadata": {
        "id": "8e43930e"
      },
      "outputs": [],
      "source": [
        "\n",
        "w = da[\"RIDAGEYR\"]; x = da.loc[:, \"RIDAGEYR\"]; y = da.RIDAGEYR\n",
        "z = da.iloc[:, da.columns.get_loc(\"RIDAGEYR\")]\n",
        "print(\"Max RIDAGEYR (cuatro formas):\", w.max(), x.max(), y.max(), z.max())\n",
        "fila4 = da.iloc[3, :]; fila4\n"
      ]
    },
    {
      "cell_type": "markdown",
      "id": "b583dac2",
      "metadata": {
        "id": "b583dac2"
      },
      "source": [
        "## Faltantes"
      ]
    },
    {
      "cell_type": "code",
      "execution_count": null,
      "id": "50ef12b9",
      "metadata": {
        "id": "50ef12b9"
      },
      "outputs": [],
      "source": [
        "\n",
        "faltantes_bmxwt = pd.isnull(da[\"BMXWT\"]).sum()\n",
        "no_faltantes_bmxwt = pd.notnull(da[\"BMXWT\"]).sum()\n",
        "print(\"BMXWT → faltantes:\", faltantes_bmxwt, \"| no faltantes:\", no_faltantes_bmxwt)\n"
      ]
    },
    {
      "cell_type": "markdown",
      "id": "4050f180",
      "metadata": {
        "id": "4050f180"
      },
      "source": [
        "## Visualización rápida"
      ]
    },
    {
      "cell_type": "code",
      "execution_count": null,
      "id": "6dcc3ea1",
      "metadata": {
        "id": "6dcc3ea1"
      },
      "outputs": [],
      "source": [
        "\n",
        "col = \"BMXBMI\" if \"BMXBMI\" in da.columns else da.select_dtypes(include='number').columns[0]\n",
        "plt.figure(); da[col].hist(bins=20)\n",
        "plt.title(f\"Histograma de {col}\"); plt.xlabel(col); plt.ylabel(\"Frecuencia\"); plt.show()\n"
      ]
    },
    {
      "cell_type": "markdown",
      "id": "9fe53521",
      "metadata": {
        "id": "9fe53521"
      },
      "source": [
        "\n",
        "## Ejercicios (para tu repositorio)\n",
        "1) Reporta `shape`, `columns`, `dtypes`, `head`, `describe`.  \n",
        "2) Dos variables numéricas: media, mediana, desviación estándar y cuantiles (25%, 50%, 75%).  \n",
        "3) Tabla de frecuencias para una variable categórica.  \n",
        "4) Columnas con valores faltantes y conteo por variable.  \n",
        "5) (Opcional) Nueva columna derivada y su distribución.\n"
      ]
    },
    {
      "cell_type": "markdown",
      "id": "cfefc833",
      "metadata": {
        "id": "cfefc833"
      },
      "source": [
        "\n",
        "### Respuestas del estudiante (Markdown)\n",
        "<div class=\"response-box\">\n",
        "Escribe aquí tu análisis y conclusiones para los puntos 1–5.\n",
        "</div>\n"
      ]
    },
    {
      "cell_type": "code",
      "execution_count": null,
      "id": "6ca4db5c",
      "metadata": {
        "id": "6ca4db5c"
      },
      "outputs": [],
      "source": [
        "# Respuestas del estudiante (Código)\n",
        "# TODO: Añade aquí tu código para los ejercicios de la Clase 1"
      ]
    }
  ],
  "metadata": {
    "colab": {
      "provenance": [],
      "include_colab_link": true
    }
  },
  "nbformat": 4,
  "nbformat_minor": 5
}